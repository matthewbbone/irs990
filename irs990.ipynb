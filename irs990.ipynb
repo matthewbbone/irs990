{
 "metadata": {
  "language_info": {
   "codemirror_mode": {
    "name": "ipython",
    "version": 3
   },
   "file_extension": ".py",
   "mimetype": "text/x-python",
   "name": "python",
   "nbconvert_exporter": "python",
   "pygments_lexer": "ipython3",
   "version": "3.8.5-final"
  },
  "orig_nbformat": 2,
  "kernelspec": {
   "name": "python3",
   "display_name": "Python 3.8.5 32-bit",
   "metadata": {
    "interpreter": {
     "hash": "27e51d9869a86ed31c6d232a30492375277492976997f955be30b722c624d282"
    }
   }
  }
 },
 "nbformat": 4,
 "nbformat_minor": 2,
 "cells": [
  {
   "source": [
    "Running this python script will load searchable indices"
   ],
   "cell_type": "markdown",
   "metadata": {}
  },
  {
   "cell_type": "code",
   "execution_count": 86,
   "metadata": {},
   "outputs": [],
   "source": [
    "# run igedt_indexpy"
   ]
  },
  {
   "cell_type": "code",
   "execution_count": 125,
   "metadata": {},
   "outputs": [
    {
     "output_type": "execute_result",
     "data": {
      "text/plain": [
       "['ARIZONA CENTER FOR INVESTIGATIVE REPORTI',\n",
       " 'ARIZONA CENTER FOR DISABILITY LAW',\n",
       " 'ARIZONA CENTER FOR GERMANIC CULTURES INC',\n",
       " 'ARIZONA INTERFAITH MOVEMENT',\n",
       " 'ARIZONA STATE FIRE TRAINING COMMITTEE INC',\n",
       " 'ARIZONA RESERVATION MINISTRIES',\n",
       " 'ARIZONA CENTRAL CREDIT UNION',\n",
       " 'ARIZONA INTEGRATIVE WELLNESS COALITION',\n",
       " 'ARIZONA FAIR HOUSING CENTER',\n",
       " 'ARIZONA PARENTS FOR EDUCATION INC']"
      ]
     },
     "metadata": {},
     "execution_count": 125
    }
   ],
   "source": [
    "import jellyfish\n",
    "import pandas as pd\n",
    "\n",
    "name = \"arizona center for investigative \"\n",
    "year = 2015\n",
    "\n",
    "def search_results(search, year):\n",
    "\n",
    "    df = pd.read_csv('indices/index_' + str(year) + '.csv')\n",
    "    df['closeness'] = df.apply(lambda row: jellyfish.jaro_winkler_similarity(search.upper(), row['TAXPAYER_NAME']), axis = 1)\n",
    "    return df.nlargest(10, 'closeness')['TAXPAYER_NAME'].values.tolist()\n",
    "    \n",
    "search_results(name, year)\n"
   ]
  }
 ]
}